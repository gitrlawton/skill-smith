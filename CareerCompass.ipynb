{
 "cells": [
  {
   "cell_type": "markdown",
   "id": "3a07364c",
   "metadata": {},
   "source": [
    "# Career Compass: AI-Powered Job Pathway Designer with GenAI\n",
    "\n",
    "This notebook demonstrates a Generative AI application that converts resume or LinkedIn profile data into a personalized roadmap for career transition. It identifies potential new roles, skill gaps, and curated resources.\n",
    "\n",
    "**Use Case**: Personalized career guidance for students and professionals transitioning between industries.\n",
    "\n",
    "**GenAI Capabilities Used**:\n",
    "- Document Understanding\n",
    "- Few-shot Prompting\n",
    "- Structured Output (JSON format)\n",
    "- Grounding (Google Search)\n",
    "\n",
    "📂 **Before You Run This Notebook:**\n",
    "By default, to use this notebook you must upload your resume as a PDF file.\n",
    "\n",
    "1. Click **Add Data** > **Upload** on the right-hand sidebar.\n",
    "2. Select your resume file and ensure it is named `my_resume.pdf`.\n",
    "3. The uploaded file will be stored in `/kaggle/input/`.\n",
    "\n",
    "🔄 **Alternatively**: If you prefer not to upload a resume, you can comment out the PDF cell (Cell 5) and uncomment the LinkedIn cell (Cell 6), then paste in the public URL to your LinkedIn profile. Note that many LinkedIn pages require authentication and may not always load successfully in this environment."
   ]
  },
  {
   "cell_type": "markdown",
   "id": "7dc0d874",
   "metadata": {},
   "source": [
    "# Install Dependencies"
   ]
  },
  {
   "cell_type": "code",
   "execution_count": null,
   "id": "3f38df58",
   "metadata": {
    "vscode": {
     "languageId": "plaintext"
    }
   },
   "outputs": [],
   "source": [
    "!pip install -q -U google-genai"
   ]
  },
  {
   "cell_type": "markdown",
   "id": "e3362bb5",
   "metadata": {},
   "source": [
    "# Import Libraries"
   ]
  },
  {
   "cell_type": "code",
   "execution_count": null,
   "id": "ad2f1f4f",
   "metadata": {
    "vscode": {
     "languageId": "plaintext"
    }
   },
   "outputs": [],
   "source": [
    "import os\n",
    "import json\n",
    "import pathlib\n",
    "import httpx\n",
    "from pprint import pprint\n",
    "from google import genai\n",
    "from google.genai import types\n",
    "from google.genai.types import Tool, GenerateContentConfig, GoogleSearch"
   ]
  },
  {
   "cell_type": "markdown",
   "id": "32ac6c78",
   "metadata": {},
   "source": [
    "# Set API Key"
   ]
  },
  {
   "cell_type": "code",
   "execution_count": null,
   "id": "82a87d41",
   "metadata": {
    "vscode": {
     "languageId": "plaintext"
    }
   },
   "outputs": [],
   "source": [
    "# Code snippet from Kaggle Secrets Manager\n",
    "from kaggle_secrets import UserSecretsClient\n",
    "user_secrets = UserSecretsClient()\n",
    "\n",
    "GEMINI_API_KEY = user_secrets.get_secret(\"GEMINI_API_KEY\")\n",
    "if not GEMINI_API_KEY:\n",
    "    raise EnvironmentError(\"Gemini API key not found. Please set the GEMINI_API_KEY environment variable.\")\n",
    "\n",
    "client = genai.Client(api_key=GEMINI_API_KEY)"
   ]
  },
  {
   "cell_type": "markdown",
   "id": "68b6bf3d",
   "metadata": {},
   "source": [
    "# Specify Target Role and Sector "
   ]
  },
  {
   "cell_type": "code",
   "execution_count": null,
   "id": "afed66a9",
   "metadata": {
    "vscode": {
     "languageId": "plaintext"
    }
   },
   "outputs": [],
   "source": [
    "# Enter the job title and sector you're targeting\n",
    "target_role = \"Product Manager\"\n",
    "target_sector = \"Technology\""
   ]
  },
  {
   "cell_type": "markdown",
   "id": "9568f352",
   "metadata": {},
   "source": [
    "# Define JSON Schema and Prompt Template"
   ]
  },
  {
   "cell_type": "code",
   "execution_count": null,
   "id": "8546e2c3",
   "metadata": {
    "vscode": {
     "languageId": "plaintext"
    }
   },
   "outputs": [],
   "source": [
    "json_schema = '''\n",
    "CareerPath = {\n",
    "  \"transferable_skills\": list[{\n",
    "    \"name\": str,\n",
    "    \"evidence\": str\n",
    "  }],\n",
    "  \"missing_skills\": list[str],\n",
    "  \"recommended_certifications\": list[str],\n",
    "  \"learning_resources\": list[str],\n",
    "  \"intermediate_roles\": list[str],\n",
    "  \"roadmap_summary\": str\n",
    "}\n",
    "Return: CareerPath as JSON\n",
    "'''\n",
    "\n",
    "base_prompt = f\"\"\"\n",
    "The user wants to transition into a career as a {target_role} in the {target_sector} sector.\n",
    "Analyze their background and:\n",
    "- Identify transferable skills they already have, and cite the specific sentence or phrase from their resume or profile that supports each skill\n",
    "- Identify key skills and certifications they are missing\n",
    "- Recommend learning resources\n",
    "- Suggest a sequence of intermediate roles they could pursue to transition toward their target, in the order of role hierarchy (lowest to highest)\n",
    "- Provide a one-paragraph summary of their roadmap\n",
    "Format the output using this schema:\n",
    "{json_schema}\n",
    "\"\"\""
   ]
  },
  {
   "cell_type": "markdown",
   "id": "66bbb78a",
   "metadata": {},
   "source": [
    "# Upload and Process Local Resume PDF"
   ]
  },
  {
   "cell_type": "code",
   "execution_count": null,
   "id": "5ed13b83",
   "metadata": {
    "vscode": {
     "languageId": "plaintext"
    }
   },
   "outputs": [],
   "source": [
    "# Ensure 'file.pdf' is uploaded to your notebook before running.\n",
    "\n",
    "from pathlib import Path\n",
    "\n",
    "filepath = Path(\"/kaggle/input/.../file.pdf\")\n",
    "if not filepath.exists():\n",
    "    raise FileNotFoundError(\" 'file.pdf' was not found. Please upload your resume using the 'Add Data > Upload' menu before running this notebook.\")\n",
    "\n",
    "pdf_response = client.models.generate_content(\n",
    "    model=\"gemini-2.0-flash\",\n",
    "    contents=[\n",
    "        types.Part.from_bytes(\n",
    "            data=filepath.read_bytes(),\n",
    "            mime_type=\"application/pdf\",\n",
    "        ),\n",
    "        base_prompt\n",
    "    ]\n",
    ")"
   ]
  },
  {
   "cell_type": "markdown",
   "id": "9de6e4fb",
   "metadata": {},
   "source": [
    "# Extract and Parse JSON Career Plan from AI Response"
   ]
  },
  {
   "cell_type": "code",
   "execution_count": null,
   "id": "bd4efef3",
   "metadata": {
    "vscode": {
     "languageId": "plaintext"
    }
   },
   "outputs": [],
   "source": [
    "try:\n",
    "    # Extract the JSON from the response text\n",
    "    response_text = pdf_response.text\n",
    "    \n",
    "    # Look for JSON content within markdown code blocks\n",
    "    if \"```json\" in response_text:\n",
    "        # Extract content between ```json and ```\n",
    "        json_text = response_text.split(\"```json\")[1].split(\"```\")[0].strip()\n",
    "    else:\n",
    "        # If no markdown formatting, use the raw text\n",
    "        json_text = response_text\n",
    "    \n",
    "    # Now parse the extracted JSON content\n",
    "    career_plan = json.loads(json_text)\n",
    "    \n",
    "    # Print the parsed career plan to verify\n",
    "    print(\"Successfully parsed career plan:\")\n",
    "    pprint(career_plan)\n",
    "    \n",
    "except Exception as e:\n",
    "    raise ValueError(f\"Failed to parse AI response as JSON: {e}\")"
   ]
  },
  {
   "cell_type": "markdown",
   "id": "18c8c6b8",
   "metadata": {},
   "source": [
    "# Find Learning Resources with Google Search Grounding & Few-Shot Prompting"
   ]
  },
  {
   "cell_type": "code",
   "execution_count": null,
   "id": "7332bcf7",
   "metadata": {
    "vscode": {
     "languageId": "plaintext"
    }
   },
   "outputs": [],
   "source": [
    "# Use Google's built-in search tool\n",
    "model_id = \"gemini-2.0-flash\"\n",
    "google_search_tool = Tool(google_search=GoogleSearch())\n",
    "\n",
    "examples =\"\"\"\n",
    "[{\n",
    "  \"skill\": \"Product Strategy (developing product vision and roadmaps)\",\n",
    "  \"resources\": [\n",
    "    {\n",
    "      \"title\": \"Product Strategy: Develop and Manage Successful Products\",\n",
    "      \"provider\": \"Kellogg School of Management\",\n",
    "      \"description\": \"Designed to train business stakeholders. The course content will enable executives to prepare wireframes, decide pricing models for SaaS, and guide product launch and subsequent revisions for growth strategies.\"\n",
    "    },\n",
    "    {\n",
    "        ...\n",
    "    },\n",
    "    {\n",
    "      \"title\": \"Mastering Product Management: Building Your Strategy\",\n",
    "      \"provider\": \"Stanford Online\",\n",
    "      \"description\": \"Provides a structured playbook for developing product strategies aligned with company goals. It covers essential techniques such as creating roadmaps, managing product teams, and driving product growth.\"\n",
    "    }\n",
    "  ]\n",
    "}],\n",
    "[{\n",
    "  \"skill\": \"Market Research (analyzing market trends and competitive landscape)\",\n",
    "  \"resources\": [\n",
    "    {\n",
    "      \"title\": \"Market Research Specialization\",\n",
    "      \"provider\": \"University of California, Davis on Coursera\",\n",
    "      \"description\": \"Offers a comprehensive approach to market research, suitable for various experience levels.\"\n",
    "    },\n",
    "    {\n",
    "        ...\n",
    "    },\n",
    "    {\n",
    "      \"title\": \"Market Research and Consumer Behavior\",\n",
    "      \"provider\": \"IE Business School\",\n",
    "      \"description\": \"Focuses on understanding consumer behavior and how it impacts market research.\"\n",
    "    }\n",
    "  ]\n",
    "}],\n",
    "...,\n",
    "[{\n",
    "  \"skill\": \"User Research (understanding user needs and pain points)\",\n",
    "  \"resources\": [\n",
    "    {\n",
    "      \"title\": \"Google UX Design Certificate\",\n",
    "      \"provider\": \"Coursera\",\n",
    "      \"description\": \"A beginner-friendly course that covers the basics of user experience design, including user research, ideation, wireframing, and prototyping.\"\n",
    "    },\n",
    "    {\n",
    "        ...\n",
    "    },\n",
    "    {\n",
    "      \"title\": \"User Research – Methods and Best Practices\",\n",
    "      \"provider\": \"The Interaction Design Foundation\",\n",
    "      \"description\": \"Provides in-depth training on user research methods, focusing on practical applications for product and UX design.\"\n",
    "    }\n",
    "  ]\n",
    "}]\n",
    "\"\"\"\n",
    "\n",
    "main_query = f\"\"\"Return this in JSON format matching my examples exactly. For each of the following skills, list 2-3 reputable online courses, certifications or other learning resources:\n",
    "\n",
    "Skills: {', '.join(career_plan['missing_skills'])}\n",
    "\n",
    "The output should be a JSON array where each element follows this structure:\n",
    "[{{\n",
    "  \"skill\": \"[Skill Name]\",\n",
    "  \"resources\": [\n",
    "    {{\n",
    "      \"title\": \"[Resource Title]\",\n",
    "      \"provider\": \"[Provider Name]\",\n",
    "      \"description\": \"[Brief description of the resource]\"\n",
    "    }},\n",
    "    {{\n",
    "      \"title\": \"[Resource Title]\",\n",
    "      \"provider\": \"[Provider Name]\",\n",
    "      \"description\": \"[Brief description of the resource]\"\n",
    "    }},\n",
    "    {{\n",
    "        ...\n",
    "    }}\n",
    "  ]\n",
    "}}]\"\"\"\n",
    "\n",
    "few_shot_prompt = examples + \"\\n\" + main_query\n",
    "\n",
    "search_response = client.models.generate_content(\n",
    "    model=model_id,\n",
    "    contents=few_shot_prompt,\n",
    "    config=GenerateContentConfig(\n",
    "        tools=[google_search_tool],\n",
    "        response_modalities=[\"TEXT\"]\n",
    "    )\n",
    ")"
   ]
  },
  {
   "cell_type": "markdown",
   "id": "65fb8b3e",
   "metadata": {},
   "source": [
    "# Parse and Format Learning Resources from Search Results"
   ]
  },
  {
   "cell_type": "code",
   "execution_count": null,
   "id": "8a88d715",
   "metadata": {
    "vscode": {
     "languageId": "plaintext"
    }
   },
   "outputs": [],
   "source": [
    "# Get the raw text from the response\n",
    "response_text = search_response.candidates[0].content.parts[0].text\n",
    "\n",
    "# Extract JSON from markdown code blocks if present\n",
    "if \"```json\" in response_text:\n",
    "    json_text = response_text.split(\"```json\")[1].split(\"```\")[0].strip()\n",
    "elif \"```\" in response_text:\n",
    "    json_text = response_text.split(\"```\")[1].split(\"```\")[0].strip()\n",
    "else:\n",
    "    json_text = response_text\n",
    "\n",
    "# Parse the JSON\n",
    "try:\n",
    "    resources_data = json.loads(json_text)\n",
    "    \n",
    "    # Format the resources as markdown\n",
    "    resources_markdown = \"\"\n",
    "    \n",
    "    for item in resources_data:\n",
    "        skill = item.get(\"skill\", \"\")\n",
    "        resources_markdown += f\"**{skill}**\\n\"\n",
    "        \n",
    "        for resource in item.get(\"resources\", []):\n",
    "            title = resource.get(\"title\", \"\")\n",
    "            provider = resource.get(\"provider\", \"\")\n",
    "            description = resource.get(\"description\", \"\")\n",
    "            \n",
    "            resources_markdown += f\"* **{title} ({provider}):** {description}\\n\"\n",
    "        \n",
    "        resources_markdown += \"\\n\"\n",
    "    \n",
    "except Exception as e:\n",
    "    resources_markdown = f\"Error processing resources: {str(e)}\\n\\nRaw response: {response_text}\"\n"
   ]
  },
  {
   "cell_type": "markdown",
   "id": "85b987d6",
   "metadata": {},
   "source": [
    "# Display Roadmap + Grounded Search Results"
   ]
  },
  {
   "cell_type": "code",
   "execution_count": null,
   "id": "9285e4d5",
   "metadata": {
    "vscode": {
     "languageId": "plaintext"
    }
   },
   "outputs": [],
   "source": [
    "from IPython.display import display, Markdown, HTML\n",
    "\n",
    "# Create the complete markdown output\n",
    "markdown_output = f\"\"\"\n",
    "## Career Transition Plan\n",
    "\n",
    "### Target Role: {target_role}\n",
    "### Sector: {target_sector}\n",
    "\n",
    "### 💱 Transferable Skills (with evidence):\n",
    "{chr(10).join([f\"- {skill['name']} ({skill['evidence']})\" for skill in career_plan['transferable_skills']])}\n",
    "\n",
    "### 🏋 Skills to Learn:\n",
    "{chr(10).join([f\"- {skill}\" for skill in career_plan['missing_skills']])}\n",
    "\n",
    "### 📜 Recommended Certifications:\n",
    "{chr(10).join([f\"- {cert}\" for cert in career_plan['recommended_certifications']])}\n",
    "\n",
    "### 👍 Recommended Learning Resources:\n",
    "{chr(10).join([f\"- {resource}\" for resource in career_plan['learning_resources']])}\n",
    "\n",
    "### 🚶‍➡️ Career Pathway:\n",
    "{\" -> \".join(career_plan['intermediate_roles'] + [target_role])}\n",
    "\n",
    "### 🗺️ Roadmap Summary:\n",
    "{career_plan['roadmap_summary']}\n",
    "\n",
    "---\n",
    "\n",
    "### 🔍 Skill Development Opportunities (via Google Search Grounding)\n",
    "{resources_markdown}\n",
    "\"\"\"\n",
    "\n",
    "display(Markdown(markdown_output))"
   ]
  },
  {
   "cell_type": "markdown",
   "id": "d0cf7d02",
   "metadata": {},
   "source": [
    "# Conclusion & Reflections\n",
    "\n",
    "In this notebook, we explored how Generative AI can:\n",
    "- Analyze structured and semi-structured content (PDF or LinkedIn profile)\n",
    "- Compare a user's experience to a target role and identify transferable and missing skills\n",
    "- Generate personalized career roadmap outputs from Gemini in structured JSON\n",
    "- Use Google's built-in search grounding to recommend up-to-date learning resources using few-shot prompting to guide results\n",
    "\n",
    "This application can support students and job seekers in navigating career pivots with clarity and confidence. Future expansions could include resume editing, interview prep, or integration with job boards and online learning platforms."
   ]
  }
 ],
 "metadata": {
  "language_info": {
   "name": "python"
  }
 },
 "nbformat": 4,
 "nbformat_minor": 5
}
