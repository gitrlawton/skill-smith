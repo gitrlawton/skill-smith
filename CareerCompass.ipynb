{
 "cells": [
  {
   "cell_type": "markdown",
   "id": "3a07364c",
   "metadata": {},
   "source": [
    "# Career Compass: AI-Powered Job Pathway Designer with GenAI\n",
    "\n",
    "This notebook demonstrates a Generative AI application that converts resume or LinkedIn profile data into a personalized roadmap for career transition. It identifies potential new roles, skill gaps, and curated resources.\n",
    "\n",
    "**Use Case**: Personalized career guidance for students and professionals transitioning between industries.\n",
    "\n",
    "**GenAI Capabilities Used**:\n",
    "- Document Understanding\n",
    "- Few-shot Prompting\n",
    "- Structured Output (JSON format)\n",
    "- Grounding (Google Search)\n",
    "\n",
    "📂 **Before You Run This Notebook:**\n",
    "To use this notebook, you must upload your resume as a PDF file.\n",
    "\n",
    "1. Click **Add Data** > **Upload** on the right-hand sidebar.\n",
    "2. Select your resume file and ensure it is named `file.pdf`.\n",
    "3. The uploaded file will be stored in `/kaggle/input/`.\n",
    "\n",
    "🔄 **Alternatively**: If you prefer not to upload a resume, you can comment out the PDF cell (Cell 5) and uncomment the LinkedIn cell (Cell 6), then paste in the public URL to your LinkedIn profile. Note that many LinkedIn pages require authentication and may not always load successfully in this environment."
   ]
  },
  {
   "cell_type": "markdown",
   "id": "7dc0d874",
   "metadata": {},
   "source": [
    "# Install Dependencies"
   ]
  },
  {
   "cell_type": "code",
   "execution_count": null,
   "id": "3f38df58",
   "metadata": {
    "vscode": {
     "languageId": "plaintext"
    }
   },
   "outputs": [],
   "source": [
    "!pip install -q -U google-genai"
   ]
  },
  {
   "cell_type": "markdown",
   "id": "e3362bb5",
   "metadata": {},
   "source": [
    "# Import Libraries"
   ]
  },
  {
   "cell_type": "code",
   "execution_count": null,
   "id": "ad2f1f4f",
   "metadata": {
    "vscode": {
     "languageId": "plaintext"
    }
   },
   "outputs": [],
   "source": [
    "import os\n",
    "import json\n",
    "import pathlib\n",
    "import httpx\n",
    "from pprint import pprint\n",
    "from google import genai\n",
    "from google.genai import types\n",
    "from google.genai.types import Tool, GenerateContentConfig, GoogleSearch"
   ]
  },
  {
   "cell_type": "markdown",
   "id": "32ac6c78",
   "metadata": {},
   "source": [
    "# Set API Key"
   ]
  },
  {
   "cell_type": "code",
   "execution_count": null,
   "id": "82a87d41",
   "metadata": {
    "vscode": {
     "languageId": "plaintext"
    }
   },
   "outputs": [],
   "source": [
    "# Code snippet from Kaggle Secrets Manager\n",
    "from kaggle_secrets import UserSecretsClient\n",
    "user_secrets = UserSecretsClient()\n",
    "\n",
    "GEMINI_API_KEY = user_secrets.get_secret(\"GEMINI_API_KEY\")\n",
    "if not GEMINI_API_KEY:\n",
    "    raise EnvironmentError(\"Gemini API key not found. Please set the GEMINI_API_KEY environment variable.\")\n",
    "\n",
    "client = genai.Client(api_key=GEMINI_API_KEY)"
   ]
  },
  {
   "cell_type": "markdown",
   "id": "ba875c05",
   "metadata": {},
   "source": [
    "# Prompt Configuration (Few-Shot + Schema)"
   ]
  },
  {
   "cell_type": "code",
   "execution_count": null,
   "id": "aae1f353",
   "metadata": {
    "vscode": {
     "languageId": "plaintext"
    }
   },
   "outputs": [],
   "source": [
    "json_schema = '''\n",
    "CareerPath = {\n",
    "  \"job_titles\": list[str],\n",
    "  \"skills_to_learn\": list[str],\n",
    "  \"recommended_certifications\": list[str],\n",
    "  \"justification\": dict[str, str]\n",
    "}\n",
    "Return: CareerPath as JSON\n",
    "'''\n",
    "\n",
    "few_shot_examples = \"\"\"\n",
    "Example 1:\n",
    "Resume: Former barista with experience in customer service, cash handling, and shift management.\n",
    "CareerPath: {\"job_titles\": [\"Customer Support Associate\", \"Sales Development Representative\"], \"skills_to_learn\": [\"CRM tools\", \"Salesforce basics\"], \"recommended_certifications\": [\"Google IT Support\"], \"justification\": {\"Customer Support Associate\": \"High alignment with communication skills\", \"Sales Development Representative\": \"Good fit due to customer engagement experience\"}}\n",
    "\n",
    "Example 2:\n",
    "Resume: Biology graduate with lab research experience and data analysis skills in Excel.\n",
    "CareerPath: {\"job_titles\": [\"Data Analyst\", \"Research Assistant\"], \"skills_to_learn\": [\"SQL\", \"Python for Data Analysis\"], \"recommended_certifications\": [\"IBM Data Analyst\"], \"justification\": {\"Data Analyst\": \"Excel and scientific analysis background is strong foundation\", \"Research Assistant\": \"Direct fit from lab experience\"}}\n",
    "\n",
    "Example 3:\n",
    "Resume: High school teacher looking to transition to instructional design or edtech.\n",
    "CareerPath: {\"job_titles\": [\"Instructional Designer\", \"EdTech Specialist\"], \"skills_to_learn\": [\"eLearning tools\", \"UI/UX for education\"], \"recommended_certifications\": [\"Coursera Learning Design\"], \"justification\": {\"Instructional Designer\": \"Teaching background provides natural fit\", \"EdTech Specialist\": \"Experience with curriculum development is applicable\"}}\n",
    "\"\"\""
   ]
  },
  {
   "cell_type": "markdown",
   "id": "66bbb78a",
   "metadata": {},
   "source": [
    "# Upload and Process Local Resume PDF"
   ]
  },
  {
   "cell_type": "code",
   "execution_count": null,
   "id": "5ed13b83",
   "metadata": {
    "vscode": {
     "languageId": "plaintext"
    }
   },
   "outputs": [],
   "source": [
    "# === DEFAULT INPUT METHOD ===\n",
    "# This cell runs by default. Ensure 'file.pdf' is uploaded to your notebook before running.\n",
    "# If you prefer using a LinkedIn URL instead, comment out this cell and uncomment the next one.\n",
    "\n",
    "from pathlib import Path\n",
    "\n",
    "filepath = Path(\"/kaggle/input/...\")\n",
    "if not filepath.exists():\n",
    "    raise FileNotFoundError(\" 'file.pdf' was not found. Please upload your resume using the 'Add Data > Upload' menu before running this notebook.\")\n",
    "\n",
    "prompt = f\"\"\"\n",
    "{few_shot_examples}\n",
    "\n",
    "Now extract a CareerPath object from this resume. Use this JSON schema:\n",
    "{json_schema}\n",
    "\"\"\"\n",
    "\n",
    "pdf_response = client.models.generate_content(\n",
    "    model=\"gemini-2.0-flash\",\n",
    "    contents=[\n",
    "        types.Part.from_bytes(\n",
    "            data=filepath.read_bytes(),\n",
    "            mime_type=\"application/pdf\",\n",
    "        ),\n",
    "        prompt\n",
    "    ]\n",
    ")"
   ]
  },
  {
   "cell_type": "markdown",
   "id": "14c06a1d",
   "metadata": {},
   "source": [
    "# LinkedIn Page Input (Alternative to Resume)"
   ]
  },
  {
   "cell_type": "code",
   "execution_count": null,
   "id": "1286a1a5",
   "metadata": {
    "vscode": {
     "languageId": "plaintext"
    }
   },
   "outputs": [],
   "source": [
    "# === OPTIONAL INPUT METHOD ===\n",
    "# Uncomment this section to use your LinkedIn profile instead of your resume.\n",
    "\n",
    "# linkedin_url = \"https://www.linkedin.com/in/sampleprofile\"\n",
    "# try:\n",
    "#     linkedin_data = httpx.get(linkedin_url).content\n",
    "# except Exception as e:\n",
    "#     raise RuntimeError(f\"Failed to retrieve LinkedIn URL: {e}\")\n",
    "\n",
    "# prompt = f\"\"\"\n",
    "# {few_shot_examples}\n",
    "# \n",
    "# Now extract a CareerPath object from the following LinkedIn profile HTML.\n",
    "# Use this JSON schema:\n",
    "# {json_schema}\n",
    "# \"\"\"\n",
    "\n",
    "# linkedin_response = client.models.generate_content(\n",
    "#     model=\"gemini-2.0-flash\",\n",
    "#     contents=[\n",
    "#         types.Part.from_bytes(\n",
    "#             data=linkedin_data,\n",
    "#             mime_type=\"text/html\",\n",
    "#         ),\n",
    "#         prompt\n",
    "#     ]\n",
    "# )"
   ]
  },
  {
   "cell_type": "markdown",
   "id": "9de6e4fb",
   "metadata": {},
   "source": [
    "# Convert Response to JSON"
   ]
  },
  {
   "cell_type": "code",
   "execution_count": null,
   "id": "bd4efef3",
   "metadata": {
    "vscode": {
     "languageId": "plaintext"
    }
   },
   "outputs": [],
   "source": [
    "try:\n",
    "    # Extract the JSON from the response text\n",
    "    response_text = pdf_response.text or linkedin_response.text\n",
    "    \n",
    "    # Look for JSON content within markdown code blocks\n",
    "    if \"```json\" in response_text:\n",
    "        # Extract content between ```json and ```\n",
    "        json_text = response_text.split(\"```json\")[1].split(\"```\")[0].strip()\n",
    "    else:\n",
    "        # If no markdown formatting, use the raw text\n",
    "        json_text = response_text\n",
    "    \n",
    "    # Now parse the extracted JSON content\n",
    "    career_plan = json.loads(json_text)\n",
    "    \n",
    "    # Print the parsed career plan to verify\n",
    "    print(\"Successfully parsed career plan:\")\n",
    "    pprint(career_plan)\n",
    "    \n",
    "except Exception as e:\n",
    "    raise ValueError(f\"Failed to parse AI response as JSON: {e}\")"
   ]
  },
  {
   "cell_type": "markdown",
   "id": "18c8c6b8",
   "metadata": {},
   "source": [
    "# Grounding with Google Search"
   ]
  },
  {
   "cell_type": "code",
   "execution_count": null,
   "id": "7332bcf7",
   "metadata": {
    "vscode": {
     "languageId": "plaintext"
    }
   },
   "outputs": [],
   "source": [
    "# Use Google's built-in search tool with grounding metadata\n",
    "model_id = \"gemini-2.0-flash\"\n",
    "google_search_tool = Tool(google_search=GoogleSearch())\n",
    "\n",
    "if \"skills_to_learn\" not in career_plan or not career_plan[\"skills_to_learn\"]:\n",
    "    raise ValueError(\"No skills found in career plan. Unable to proceed with grounded search.\")\n",
    "\n",
    "grounding_examples = \"\"\"Here are examples of how to find online courses for new skills:\n",
    "\n",
    "Skill: SQL\n",
    "Response:\n",
    "- Codecademy SQL Track: Beginner-friendly SQL tutorials with hands-on labs.\n",
    "- Google Data Analytics Certificate (Coursera): Introduces SQL in real-world business settings.\n",
    "\n",
    "Skill: Salesforce basics\n",
    "Response:\n",
    "- Salesforce Trailhead: Official learning path for Salesforce beginners.\n",
    "- Udemy Salesforce Admin Crash Course: Step-by-step instruction for fast learners.\n",
    "\n",
    "Skill: UI/UX for Education\n",
    "Response:\n",
    "- Coursera UI/UX Design Specialization: Beginner to advanced UX design for real applications.\n",
    "- edX Human-Centered Design in EdTech: Focus on educational user experience.\n",
    "\"\"\"\n",
    "\n",
    "search_prompt = f\"\"\"{grounding_examples}\n",
    "\n",
    "Now find 2–3 reputable online courses or certifications for the following skills:\n",
    "{', '.join(career_plan['skills_to_learn'])}\n",
    "Return results in the same format as above.\n",
    "\"\"\"\n",
    "\n",
    "search_response = client.models.generate_content(\n",
    "    model=model_id,\n",
    "    contents=search_prompt,\n",
    "    config=GenerateContentConfig(\n",
    "        tools=[google_search_tool],\n",
    "        response_modalities=[\"TEXT\"]\n",
    "    )\n",
    ")"
   ]
  },
  {
   "cell_type": "markdown",
   "id": "85b987d6",
   "metadata": {},
   "source": [
    "# Display Roadmap + Grounded Search Results"
   ]
  },
  {
   "cell_type": "code",
   "execution_count": null,
   "id": "9285e4d5",
   "metadata": {
    "vscode": {
     "languageId": "plaintext"
    }
   },
   "outputs": [],
   "source": [
    "print(\"--- Career Roadmap ---\\n\")\n",
    "pprint(career_plan)\n",
    "\n",
    "print(\"\\n\\n--- Recommended Learning Resources (via Google Search Grounding) ---\\n\")\n",
    "for each in search_response.candidates[0].content.parts:\n",
    "    print(each.text)"
   ]
  },
  {
   "cell_type": "markdown",
   "id": "d0cf7d02",
   "metadata": {},
   "source": [
    "# Conclusion & Reflections\n",
    "\n",
    "In this notebook, we explored how Generative AI can:\n",
    "- Analyze semi-structured resume content (PDF or LinkedIn profile)\n",
    "- Generate personalized career roadmap outputs in structured JSON\n",
    "- Recommend job roles and explain fit\n",
    "- Suggest skill development areas\n",
    "- Use Google's built-in search grounding to suggest up-to-date learning resources\n",
    "\n",
    "...all while using few-shot prompting.\n",
    "\n",
    "This application can support students and job seekers in navigating career pivots with clarity and confidence. Future expansions could include resume editing, interview prep, or integration with job boards and online learning platforms."
   ]
  }
 ],
 "metadata": {
  "language_info": {
   "name": "python"
  }
 },
 "nbformat": 4,
 "nbformat_minor": 5
}
