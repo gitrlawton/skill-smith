{
 "cells": [
  {
   "cell_type": "markdown",
   "id": "3a07364c",
   "metadata": {},
   "source": [
    "# Career Compass: AI-Powered Career Gap Analyzer with GenAI\n",
    "\n",
    "## Use Case / Problem Statement:\n",
    "\n",
    "Many students and professionals—especially those considering a career shift—struggle to understand how to bridge the gap between their current experience and a desired role. Traditional career guidance tools offer broad suggestions without understanding the user's background or intended direction. As a result, users often waste time applying to misaligned roles or studying irrelevant material.\n",
    "\n",
    "## How GenAI Solves the Problem:\n",
    "\n",
    "Career Compass empowers users to input their current resume and specify a target role and sector they want to pursue. Generative AI analyzes their current experience to identify transferable skills (with supporting evidence), highlights gaps that need to be filled, and outputs a structured roadmap including learning resources, relevant certifications, and intermediate job titles along the way. This makes career transition more actionable, personalized, and strategic.\n",
    "\n",
    "## GenAI Capabilities Demonstrated:\n",
    "\n",
    "* **Document Understanding**: Ingests and parses resumes to extract meaningful experience and skills.\n",
    "* **Few-Shot Prompting**: Leverages example-driven prompts to improve learning resource recommendations.\n",
    "* **Structured Output**: Outputs the career plan and search results in a machine-readable format for downstream display or visualization.\n",
    "* **Grounding**: Uses Google Search to retrieve relevant certification programs, online courses, and other learning content tailored to the gap."
   ]
  },
  {
   "cell_type": "markdown",
   "id": "7dc0d874",
   "metadata": {},
   "source": [
    "# 1. Install Dependencies"
   ]
  },
  {
   "cell_type": "code",
   "execution_count": null,
   "id": "3f38df58",
   "metadata": {
    "vscode": {
     "languageId": "plaintext"
    }
   },
   "outputs": [],
   "source": [
    "!pip install -q -U google-genai"
   ]
  },
  {
   "cell_type": "markdown",
   "id": "e3362bb5",
   "metadata": {},
   "source": [
    "# 2. Import Libraries"
   ]
  },
  {
   "cell_type": "code",
   "execution_count": null,
   "id": "ad2f1f4f",
   "metadata": {
    "vscode": {
     "languageId": "plaintext"
    }
   },
   "outputs": [],
   "source": [
    "import os\n",
    "import json\n",
    "import pathlib\n",
    "import httpx\n",
    "from pprint import pprint\n",
    "from google import genai\n",
    "from google.genai import types\n",
    "from google.genai.types import Tool, GenerateContentConfig, GoogleSearch"
   ]
  },
  {
   "cell_type": "markdown",
   "id": "32ac6c78",
   "metadata": {},
   "source": [
    "# 3. Set API Key"
   ]
  },
  {
   "cell_type": "code",
   "execution_count": null,
   "id": "82a87d41",
   "metadata": {
    "vscode": {
     "languageId": "plaintext"
    }
   },
   "outputs": [],
   "source": [
    "# Code snippet from Kaggle Secrets Manager\n",
    "from kaggle_secrets import UserSecretsClient\n",
    "user_secrets = UserSecretsClient()\n",
    "\n",
    "GEMINI_API_KEY = user_secrets.get_secret(\"GEMINI_API_KEY\")\n",
    "if not GEMINI_API_KEY:\n",
    "    raise EnvironmentError(\"Gemini API key not found. Please set the GEMINI_API_KEY environment variable.\")\n",
    "\n",
    "client = genai.Client(api_key=GEMINI_API_KEY)"
   ]
  },
  {
   "cell_type": "markdown",
   "id": "68b6bf3d",
   "metadata": {},
   "source": [
    "# 4. Specify Target Role and Sector "
   ]
  },
  {
   "cell_type": "code",
   "execution_count": null,
   "id": "afed66a9",
   "metadata": {
    "vscode": {
     "languageId": "plaintext"
    }
   },
   "outputs": [],
   "source": [
    "# Enter the job title and sector you're targeting\n",
    "\n",
    "target_role = \"Product Manager\"\n",
    "target_sector = \"Technology\""
   ]
  },
  {
   "cell_type": "markdown",
   "id": "9568f352",
   "metadata": {},
   "source": [
    "# 5. Define Career Plan JSON Schema and Prompt Template"
   ]
  },
  {
   "cell_type": "code",
   "execution_count": null,
   "id": "8546e2c3",
   "metadata": {
    "vscode": {
     "languageId": "plaintext"
    }
   },
   "outputs": [],
   "source": [
    "# Define JSON schema for formatting career plan\n",
    "career_plan_json_schema = '''\n",
    "CareerPath = {\n",
    "    \"transferable_skills\": list[{\n",
    "    \"name\": str,\n",
    "    \"evidence\": str\n",
    "    }],\n",
    "    \"missing_skills\": list[str],\n",
    "    \"learning_resources\": list[{\n",
    "      \"title\": str,\n",
    "      \"provider\": str\n",
    "    }],\n",
    "    \"recommended_certifications\": list[{\n",
    "      \"title\": str,\n",
    "      \"provider\": str\n",
    "    }],\n",
    "    \"intermediate_roles\": list[str],\n",
    "    \"roadmap_summary\": str\n",
    "}\n",
    "Return: CareerPath as JSON\n",
    "'''\n",
    "\n",
    "# Craft a prompt to generate a career plan and format the response according to the career plan schema\n",
    "career_plan_prompt = f\"\"\"\n",
    "The user wants to transition into a career as a {target_role} in the {target_sector} sector.\n",
    "Analyze their background and:\n",
    "- Identify transferable skills they already have, and cite the specific sentence or phrase from their resume or profile that supports each skill\n",
    "- Identify key skills and certifications they are missing\n",
    "- Recommend specific learning resources along with the name of the site or company that provides the resource\n",
    "- Suggest a sequence of intermediate job roles they could pursue in the order of job role hierarchy (lowest to highest), \n",
    "and ending with the role they want to transition into.\n",
    "- Provide a one-paragraph summary of their roadmap, referring to the individual as \"you\" instead of their name\n",
    "Format the output using this schema:\n",
    "{career_plan_json_schema}\n",
    "\"\"\""
   ]
  },
  {
   "cell_type": "markdown",
   "id": "66bbb78a",
   "metadata": {},
   "source": [
    "# 6. Process Local Resume PDF and Generate Career Plan"
   ]
  },
  {
   "cell_type": "code",
   "execution_count": null,
   "id": "5ed13b83",
   "metadata": {
    "vscode": {
     "languageId": "plaintext"
    }
   },
   "outputs": [],
   "source": [
    "from pathlib import Path\n",
    "\n",
    "filepath = Path(\"/kaggle/input/resume/my_resume.pdf\")\n",
    "if not filepath.exists():\n",
    "    raise FileNotFoundError(\" 'my_resume.pdf' was not found. Please upload your resume using the 'Add Data > Upload' menu before running this notebook.\")\n",
    "\n",
    "# Prompt Gemini with the user's resume pdf and the career plan prompt\n",
    "career_plan_response = client.models.generate_content(\n",
    "    model=\"gemini-2.0-flash\",\n",
    "    contents=[\n",
    "        types.Part.from_bytes(\n",
    "            data=filepath.read_bytes(),\n",
    "            mime_type=\"application/pdf\",\n",
    "        ),\n",
    "        career_plan_prompt\n",
    "    ]\n",
    ")"
   ]
  },
  {
   "cell_type": "markdown",
   "id": "9de6e4fb",
   "metadata": {},
   "source": [
    "# 7. Extract and Parse JSON Career Plan from Gemini Response"
   ]
  },
  {
   "cell_type": "code",
   "execution_count": null,
   "id": "bd4efef3",
   "metadata": {
    "vscode": {
     "languageId": "plaintext"
    }
   },
   "outputs": [],
   "source": [
    "try:\n",
    "    # Extract the JSON from the career plan response text\n",
    "    career_plan_response_text = career_plan_response.text\n",
    "    \n",
    "    # Look for JSON content within markdown code blocks\n",
    "    if \"```json\" in career_plan_response_text:\n",
    "        # Extract content between ```json and ```\n",
    "        career_plan_json_text = career_plan_response_text.split(\"```json\")[1].split(\"```\")[0].strip()\n",
    "    else:\n",
    "        # If no markdown formatting, use the raw text\n",
    "        career_plan_json_text = career_plan_response_text\n",
    "    \n",
    "    # Now parse the extracted JSON content\n",
    "    career_plan = json.loads(career_plan_json_text)\n",
    "    \n",
    "    # Print the parsed career plan to verify\n",
    "    print(\"Successfully parsed career plan:\")\n",
    "    pprint(career_plan)\n",
    "    \n",
    "except Exception as e:\n",
    "    raise ValueError(f\"Failed to parse AI response as JSON: {e}\")"
   ]
  },
  {
   "cell_type": "markdown",
   "id": "18c8c6b8",
   "metadata": {},
   "source": [
    "# 8. Find Skill Development Resources with Google Search Grounding & Few-Shot Prompting"
   ]
  },
  {
   "cell_type": "code",
   "execution_count": null,
   "id": "7332bcf7",
   "metadata": {
    "vscode": {
     "languageId": "plaintext"
    }
   },
   "outputs": [],
   "source": [
    "# Use Gemini's built-in Google Search tool\n",
    "model_id = \"gemini-2.0-flash\"\n",
    "google_search_tool = Tool(google_search=GoogleSearch())\n",
    "\n",
    "# Provide few-shot examples for search results\n",
    "search_result_examples =\"\"\"\n",
    "[{\n",
    "  \"skill\": \"Product Strategy (developing product vision and roadmaps)\",\n",
    "  \"resources\": [\n",
    "    {\n",
    "      \"title\": \"Product Strategy: Develop and Manage Successful Products\",\n",
    "      \"provider\": \"Kellogg School of Management\",\n",
    "      \"description\": \"Designed to train business stakeholders. The course content will enable executives to prepare wireframes, decide pricing models for SaaS, and guide product launch and subsequent revisions for growth strategies.\",\n",
    "      \"link\": \"https://www.kellogg.northwestern.edu/executive-education/individual-programs/online-programs/prodstrat.aspx\"\n",
    "    },\n",
    "    ...,\n",
    "    {\n",
    "      \"title\": \"Mastering Product Management: Building Your Strategy\",\n",
    "      \"provider\": \"Stanford Online\",\n",
    "      \"description\": \"Provides a structured playbook for developing product strategies aligned with company goals. It covers essential techniques such as creating roadmaps, managing product teams, and driving product growth.\",\n",
    "      \"link\": \"https://online.stanford.edu/courses/xprod210-mastering-product-management-building-your-strategy\"\n",
    "    }\n",
    "  ]\n",
    "}],\n",
    "[{\n",
    "  \"skill\": \"Market Research (analyzing market trends and competitive landscape)\",\n",
    "  \"resources\": [\n",
    "    {\n",
    "      \"title\": \"Market Research Specialization\",\n",
    "      \"provider\": \"University of California, Davis on Coursera\",\n",
    "      \"description\": \"Offers a comprehensive approach to market research, suitable for various experience levels.\",\n",
    "      \"link\": \"https://www.coursera.org/specializations/market-research\"\n",
    "    },\n",
    "    ...,\n",
    "    {\n",
    "      \"title\": \"Market Research and Consumer Behavior\",\n",
    "      \"provider\": \"IE Business School\",\n",
    "      \"description\": \"Focuses on understanding consumer behavior and how it impacts market research.\",\n",
    "      \"link\": \"https://www.ie.edu/business-school/programs/masters/master-in-market-research-consumer-behavior/\"\n",
    "    }\n",
    "  ]\n",
    "}],\n",
    "...,\n",
    "[{\n",
    "  \"skill\": \"User Research (understanding user needs and pain points)\",\n",
    "  \"resources\": [\n",
    "    {\n",
    "      \"title\": \"Google UX Design Certificate\",\n",
    "      \"provider\": \"Coursera\",\n",
    "      \"description\": \"A beginner-friendly course that covers the basics of user experience design, including user research, ideation, wireframing, and prototyping.\",\n",
    "      \"link\": \"https://www.coursera.org/professional-certificates/google-ux-design\"\n",
    "    },\n",
    "    ...,\n",
    "    {\n",
    "      \"title\": \"User Research – Methods and Best Practices\",\n",
    "      \"provider\": \"The Interaction Design Foundation\",\n",
    "      \"description\": \"Provides in-depth training on user research methods, focusing on practical applications for product and UX design.\",\n",
    "      \"link\": \"https://www.interaction-design.org/courses/user-research-methods-and-best-practices?srsltid=AfmBOorDt8DQBhRiUZSEdjFUSDdxuPgMXezdL7G91IpBCiZg5XAIfvhr\"\n",
    "    }\n",
    "  ]\n",
    "}]\n",
    "\"\"\"\n",
    "\n",
    "# Create a main query for the search\n",
    "main_search_query = f\"\"\"Return this in JSON format matching my examples exactly. For each of the following skills, list 2-3 reputable online courses, certifications or other learning resources:\n",
    "\n",
    "Skills: {', '.join(career_plan['missing_skills'])}\n",
    "\n",
    "The output should be a JSON array where each element follows this structure:\n",
    "[{{\n",
    "  \"skill\": \"[Skill Name]\",\n",
    "  \"resources\": [\n",
    "    {{\n",
    "      \"title\": \"[Resource Title]\",\n",
    "      \"provider\": \"[Provider Name]\",\n",
    "      \"description\": \"[Brief description of the resource]\",\n",
    "      \"link\": \"[Resource URL]\"\n",
    "    }},\n",
    "    ...,\n",
    "    {{\n",
    "      \"title\": \"[Resource Title]\",\n",
    "      \"provider\": \"[Provider Name]\",\n",
    "      \"description\": \"[Brief description of the resource]\",\n",
    "      \"link\": \"[Resource URL]\"\n",
    "    }},\n",
    "  ]\n",
    "}}]\"\"\"\n",
    "\n",
    "# Combine few-shot examples with main search query to create few-shot prompt\n",
    "few_shot_prompt = search_result_examples + \"\\n\" + main_search_query\n",
    "\n",
    "# Send the few-shot prompt to Gemini and have it use the Google Search tool\n",
    "search_response = client.models.generate_content(\n",
    "    model=model_id,\n",
    "    contents=few_shot_prompt,\n",
    "    config=GenerateContentConfig(\n",
    "        tools=[google_search_tool],\n",
    "        response_modalities=[\"TEXT\"]\n",
    "    )\n",
    ")"
   ]
  },
  {
   "cell_type": "markdown",
   "id": "65fb8b3e",
   "metadata": {},
   "source": [
    "# 9. Parse and Format Skill Development Resources from Search Results"
   ]
  },
  {
   "cell_type": "code",
   "execution_count": null,
   "id": "8a88d715",
   "metadata": {
    "vscode": {
     "languageId": "plaintext"
    }
   },
   "outputs": [],
   "source": [
    "# Get the raw text from the response\n",
    "search_response_text = search_response.candidates[0].content.parts[0].text\n",
    "\n",
    "# Extract JSON from markdown code blocks if present\n",
    "if \"```json\" in search_response_text:\n",
    "    search_json_text = search_response_text.split(\"```json\")[1].split(\"```\")[0].strip()\n",
    "elif \"```\" in search_response_text:\n",
    "    search_json_text = search_response_text.split(\"```\")[1].split(\"```\")[0].strip()\n",
    "else:\n",
    "    search_json_text = search_response_text\n",
    "\n",
    "# Parse the JSON\n",
    "try:\n",
    "    search_resources_data = json.loads(search_json_text)\n",
    "    \n",
    "    # Format the resources as markdown\n",
    "    search_resources_markdown = \"\"\n",
    "    \n",
    "    for item in search_resources_data:\n",
    "        skill = item.get(\"skill\", \"\")\n",
    "        search_resources_markdown += f\"**{skill}**\\n\"\n",
    "        \n",
    "        for resource in item.get(\"resources\", []):\n",
    "            title = resource.get(\"title\", \"\")\n",
    "            provider = resource.get(\"provider\", \"\")\n",
    "            description = resource.get(\"description\", \"\")\n",
    "            link = resource.get(\"link\", \"\")\n",
    "            \n",
    "            search_resources_markdown += f\"* **{title} ({provider}):** {description} [Link]({link})\\n\"\n",
    "        \n",
    "        search_resources_markdown += \"\\n\"\n",
    "    \n",
    "except Exception as e:\n",
    "    search_resources_markdown = f\"Error processing search resources: {str(e)}\\n\\nRaw response: {search_response_text}\"\n"
   ]
  },
  {
   "cell_type": "markdown",
   "id": "85b987d6",
   "metadata": {},
   "source": [
    "# 10. Display Roadmap + Grounded Search Results"
   ]
  },
  {
   "cell_type": "code",
   "execution_count": null,
   "id": "9285e4d5",
   "metadata": {
    "vscode": {
     "languageId": "plaintext"
    }
   },
   "outputs": [],
   "source": [
    "from IPython.display import display, Markdown, HTML\n",
    "\n",
    "# Create the complete markdown output from the career plan and the \n",
    "full_markdown_output = f\"\"\"\n",
    "<h1 align=\"center\">Career Transition Plan</h1>\n",
    "\n",
    "<h3 align=\"center\">Target Role: {target_role}</h3>\n",
    "<h3 align=\"center\">Sector: {target_sector}</h3>\n",
    "\n",
    "### 💱 Transferable Skills (with evidence):\n",
    "{chr(10).join([f\"- **{skill['name']}** - {skill['evidence']}\" for skill in career_plan['transferable_skills']])}\n",
    "\n",
    "### 🏋 Skills to Learn:\n",
    "{chr(10).join([f\"- {skill}\" for skill in career_plan['missing_skills']])}\n",
    "\n",
    "### 📜 Recommended Certifications:\n",
    "{chr(10).join([f\"- {cert['title']} from {cert['provider']}\" for cert in career_plan['recommended_certifications']])}\n",
    "\n",
    "### 👍 Recommended Learning Resources:\n",
    "{chr(10).join([f\"- {resource['title']} ({resource['provider']})\" for resource in career_plan['learning_resources']])}\n",
    "\n",
    "### 🚶‍➡️ Career Pathway:\n",
    "{\" → \".join(career_plan['intermediate_roles'])}\n",
    "\n",
    "### 🗺️ Roadmap Summary:\n",
    "{career_plan['roadmap_summary']}\n",
    "\n",
    "### 🔍 Skill Development Opportunities (via Google Search Grounding)\n",
    "{search_resources_markdown}\n",
    "\"\"\"\n",
    "display(Markdown(full_markdown_output))"
   ]
  },
  {
   "cell_type": "markdown",
   "id": "d0cf7d02",
   "metadata": {},
   "source": [
    "# Conclusion & Reflections\n",
    "\n",
    "In this notebook, we explored how Generative AI can:\n",
    "- Analyze documents (Resume PDF)\n",
    "- Compare a user's experience to a target role and identify transferable and missing skills\n",
    "- Generate personalized career roadmap outputs in structured JSON\n",
    "- Use search grounding to recommend up-to-date learning resources using few-shot prompting to guide results\n",
    "\n",
    "This application can support students and job seekers in navigating career pivots with clarity and confidence. Future expansions could include resume editing, interview prep, or integration with job boards and online learning platforms."
   ]
  }
 ],
 "metadata": {
  "language_info": {
   "name": "python"
  }
 },
 "nbformat": 4,
 "nbformat_minor": 5
}
